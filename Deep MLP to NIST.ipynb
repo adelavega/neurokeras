{
 "cells": [
  {
   "cell_type": "markdown",
   "metadata": {},
   "source": [
    "# Deep learning for complete beginners: recognising handwritten digits\n"
   ]
  },
  {
   "cell_type": "code",
   "execution_count": 1,
   "metadata": {},
   "outputs": [
    {
     "name": "stderr",
     "output_type": "stream",
     "text": [
      "Using TensorFlow backend.\n"
     ]
    }
   ],
   "source": [
    "from keras.datasets import mnist # subroutines for fetching the MNIST dataset\n",
    "from keras.models import Model # basic class for specifying and training a neural network\n",
    "from keras.layers import Input, Dense # the two types of neural network layer we will be using\n",
    "from keras.utils import np_utils # utilities for one-hot encoding of ground truth values"
   ]
  },
  {
   "cell_type": "code",
   "execution_count": 2,
   "metadata": {
    "collapsed": true
   },
   "outputs": [],
   "source": [
    "batch_size = 128 # in each iteration, we consider 128 training examples at once\n",
    "num_epochs = 20 # we iterate twenty times over the entire training set\n",
    "hidden_size = 512"
   ]
  },
  {
   "cell_type": "code",
   "execution_count": 3,
   "metadata": {},
   "outputs": [],
   "source": [
    "num_train = 60000 # there are 60000 training examples in MNIST\n",
    "num_test = 10000 # there are 10000 test examples in MNIST\n",
    "\n",
    "height, width, depth = 28, 28, 1 # MNIST images are 28x28 and greyscale\n",
    "num_classes = 10 # there are 10 classes (1 per digit)\n",
    "\n",
    "(X_train, y_train), (X_test, y_test) = mnist.load_data() # fetch MNIST data\n",
    "\n",
    "X_train = X_train.reshape(num_train, height * width) # Flatten data to 1D\n",
    "X_test = X_test.reshape(num_test, height * width) # Flatten data to 1D\n",
    "X_train = X_train.astype('float32') \n",
    "X_test = X_test.astype('float32')\n",
    "X_train /= 255 # Normalise data to [0, 1] range\n",
    "X_test /= 255 # Normalise data to [0, 1] range\n",
    "\n",
    "Y_train = np_utils.to_categorical(y_train, num_classes) # One-hot encode the labels\n",
    "Y_test = np_utils.to_categorical(y_test, num_classes) # One-hot encode the labels"
   ]
  },
  {
   "cell_type": "code",
   "execution_count": 4,
   "metadata": {
    "collapsed": true
   },
   "outputs": [],
   "source": [
    "inp = Input(shape=(height * width,)) # Our input is a 1D vector of size 784\n",
    "hidden_1 = Dense(hidden_size, activation='relu')(inp) # First hidden ReLU layer\n",
    "hidden_2 = Dense(hidden_size, activation='relu')(hidden_1) # Second hidden ReLU layer\n",
    "out = Dense(num_classes, activation='softmax')(hidden_2) # Output softmax layer\n",
    "\n",
    "model = Model(inp, out) # To define a model, just specify its input and output layers"
   ]
  },
  {
   "cell_type": "code",
   "execution_count": 5,
   "metadata": {
    "collapsed": true
   },
   "outputs": [],
   "source": [
    "model.compile(loss='categorical_crossentropy', # using the cross-entropy loss function\n",
    "              optimizer='adam', # using the Adam optimiser\n",
    "              metrics=['accuracy']) # reporting the accuracy\n"
   ]
  },
  {
   "cell_type": "code",
   "execution_count": 8,
   "metadata": {},
   "outputs": [
    {
     "name": "stderr",
     "output_type": "stream",
     "text": [
      "/usr/lib/python3.4/dist-packages/ipykernel_launcher.py:3: UserWarning: The `nb_epoch` argument in `fit` has been renamed `epochs`.\n",
      "  This is separate from the ipykernel package so we can avoid doing imports until\n"
     ]
    },
    {
     "name": "stdout",
     "output_type": "stream",
     "text": [
      "Train on 54000 samples, validate on 6000 samples\n",
      "Epoch 1/20\n",
      "54000/54000 [==============================] - 3s - loss: 0.2350 - acc: 0.9308 - val_loss: 0.0966 - val_acc: 0.9697\n",
      "Epoch 2/20\n",
      "54000/54000 [==============================] - 2s - loss: 0.0827 - acc: 0.9746 - val_loss: 0.0834 - val_acc: 0.9745\n",
      "Epoch 3/20\n",
      "54000/54000 [==============================] - 2s - loss: 0.0538 - acc: 0.9831 - val_loss: 0.0694 - val_acc: 0.9807\n",
      "Epoch 4/20\n",
      "54000/54000 [==============================] - 2s - loss: 0.0372 - acc: 0.9879 - val_loss: 0.0775 - val_acc: 0.9740\n",
      "Epoch 5/20\n",
      "54000/54000 [==============================] - 2s - loss: 0.0278 - acc: 0.9909 - val_loss: 0.0695 - val_acc: 0.9820\n",
      "Epoch 6/20\n",
      "54000/54000 [==============================] - 2s - loss: 0.0188 - acc: 0.9937 - val_loss: 0.0726 - val_acc: 0.9808\n",
      "Epoch 7/20\n",
      "54000/54000 [==============================] - 2s - loss: 0.0241 - acc: 0.9918 - val_loss: 0.0840 - val_acc: 0.9777\n",
      "Epoch 8/20\n",
      "54000/54000 [==============================] - 2s - loss: 0.0163 - acc: 0.9943 - val_loss: 0.0769 - val_acc: 0.9808\n",
      "Epoch 9/20\n",
      "54000/54000 [==============================] - 2s - loss: 0.0134 - acc: 0.9954 - val_loss: 0.0910 - val_acc: 0.9798\n",
      "Epoch 10/20\n",
      "54000/54000 [==============================] - 2s - loss: 0.0147 - acc: 0.9951 - val_loss: 0.0979 - val_acc: 0.9782\n",
      "Epoch 11/20\n",
      "54000/54000 [==============================] - 2s - loss: 0.0139 - acc: 0.9951 - val_loss: 0.0958 - val_acc: 0.9793\n",
      "Epoch 12/20\n",
      "54000/54000 [==============================] - 2s - loss: 0.0125 - acc: 0.9965 - val_loss: 0.1210 - val_acc: 0.9752\n",
      "Epoch 13/20\n",
      "54000/54000 [==============================] - 2s - loss: 0.0108 - acc: 0.9964 - val_loss: 0.0867 - val_acc: 0.9833\n",
      "Epoch 14/20\n",
      "54000/54000 [==============================] - 2s - loss: 0.0090 - acc: 0.9973 - val_loss: 0.0947 - val_acc: 0.9798\n",
      "Epoch 15/20\n",
      "54000/54000 [==============================] - 2s - loss: 0.0117 - acc: 0.9960 - val_loss: 0.0810 - val_acc: 0.9842\n",
      "Epoch 16/20\n",
      "54000/54000 [==============================] - 2s - loss: 0.0097 - acc: 0.9967 - val_loss: 0.0947 - val_acc: 0.9787\n",
      "Epoch 17/20\n",
      "54000/54000 [==============================] - 2s - loss: 0.0111 - acc: 0.9963 - val_loss: 0.0786 - val_acc: 0.9833\n",
      "Epoch 18/20\n",
      "54000/54000 [==============================] - 2s - loss: 0.0049 - acc: 0.9985 - val_loss: 0.0883 - val_acc: 0.9808\n",
      "Epoch 19/20\n",
      "54000/54000 [==============================] - 2s - loss: 0.0049 - acc: 0.9984 - val_loss: 0.1093 - val_acc: 0.9810\n",
      "Epoch 20/20\n",
      "54000/54000 [==============================] - 2s - loss: 0.0147 - acc: 0.9955 - val_loss: 0.0954 - val_acc: 0.9828\n"
     ]
    },
    {
     "data": {
      "text/plain": [
       "<keras.callbacks.History at 0x7f508bb18b70>"
      ]
     },
     "execution_count": 8,
     "metadata": {},
     "output_type": "execute_result"
    }
   ],
   "source": [
    "model.fit(X_train, Y_train, # Train the model using the training set...\n",
    "          batch_size=batch_size, nb_epoch=num_epochs,\n",
    "          verbose=1, validation_split=0.1) # ...holding out 10% of the data for validation"
   ]
  },
  {
   "cell_type": "code",
   "execution_count": 9,
   "metadata": {},
   "outputs": [
    {
     "name": "stdout",
     "output_type": "stream",
     "text": [
      " 9632/10000 [===========================>..] - ETA: 0s"
     ]
    },
    {
     "data": {
      "text/plain": [
       "[0.092943688172849537, 0.98080000000000001]"
      ]
     },
     "execution_count": 9,
     "metadata": {},
     "output_type": "execute_result"
    }
   ],
   "source": [
    "model.evaluate(X_test, Y_test, verbose=1) # Evaluate the trained model on the test set!\n"
   ]
  },
  {
   "cell_type": "markdown",
   "metadata": {},
   "source": [
    "# Deep learning for complete beginners: convolutional neural networks with keras"
   ]
  },
  {
   "cell_type": "code",
   "execution_count": 6,
   "metadata": {
    "collapsed": true
   },
   "outputs": [],
   "source": [
    "from keras.callbacks import TensorBoard\n",
    "cb = TensorBoard(log_dir='./logs', histogram_freq=0, batch_size=32, write_graph=True, write_grads=False, write_images=False, embeddings_freq=0, embeddings_layer_names=None, embeddings_metadata=None)"
   ]
  },
  {
   "cell_type": "code",
   "execution_count": 7,
   "metadata": {
    "collapsed": true
   },
   "outputs": [],
   "source": [
    "from keras.datasets import cifar10 # subroutines for fetching the CIFAR-10 dataset\n",
    "from keras.models import Model # basic class for specifying and training a neural network\n",
    "from keras.layers import Input, Convolution2D, MaxPooling2D, Dense, Dropout, Flatten\n",
    "from keras.utils import np_utils # utilities for one-hot encoding of ground truth values\n",
    "import numpy as np"
   ]
  },
  {
   "cell_type": "code",
   "execution_count": 12,
   "metadata": {
    "collapsed": true
   },
   "outputs": [],
   "source": [
    "batch_size = 32 # in each iteration, we consider 32 training examples at once\n",
    "num_epochs = 50\n",
    "# we iterate 200 times over the entire training set\n",
    "kernel_size = 3 # we will use 3x3 kernels throughout\n",
    "pool_size = 2 # we will use 2x2 pooling throughout\n",
    "conv_depth_1 = 32 # we will initially have 32 kernels per conv. layer...\n",
    "conv_depth_2 = 64 # ...switching to 64 after the first pooling layer\n",
    "drop_prob_1 = 0.25 # dropout after pooling with probability 0.25\n",
    "drop_prob_2 = 0.5 # dropout in the FC layer with probability 0.5\n",
    "hidden_size = 512 # the FC layer will have 512 neurons"
   ]
  },
  {
   "cell_type": "code",
   "execution_count": 13,
   "metadata": {},
   "outputs": [
    {
     "data": {
      "text/plain": [
       "(50000, 32, 32, 3)"
      ]
     },
     "execution_count": 13,
     "metadata": {},
     "output_type": "execute_result"
    }
   ],
   "source": [
    "X_train.shape"
   ]
  },
  {
   "cell_type": "code",
   "execution_count": 14,
   "metadata": {
    "collapsed": true
   },
   "outputs": [],
   "source": [
    "(X_train, y_train), (X_test, y_test) = cifar10.load_data() # fetch CIFAR-10 data\n",
    "\n",
    "num_train, height, width, depth = X_train.shape # there are 50000 training examples in CIFAR-10 \n",
    "num_test = X_test.shape[0] # there are 10000 test examples in CIFAR-10\n",
    "num_classes = np.unique(y_train).shape[0] # there are 10 image classes\n",
    "\n",
    "X_train = X_train.astype('float32') \n",
    "X_test = X_test.astype('float32')\n",
    "X_train /= np.max(X_train) # Normalise data to [0, 1] range\n",
    "X_test /= np.max(X_test) # Normalise data to [0, 1] range\n",
    "\n",
    "Y_train = np_utils.to_categorical(y_train, num_classes) # One-hot encode the labels\n",
    "Y_test = np_utils.to_categorical(y_test, num_classes) # One-hot encode the labels"
   ]
  },
  {
   "cell_type": "code",
   "execution_count": 15,
   "metadata": {},
   "outputs": [
    {
     "name": "stdout",
     "output_type": "stream",
     "text": [
      "Train on 45000 samples, validate on 5000 samples\n",
      "Epoch 1/50\n",
      "45000/45000 [==============================] - 23s - loss: 1.5450 - acc: 0.4364 - val_loss: 1.1246 - val_acc: 0.5990\n",
      "Epoch 2/50\n",
      "45000/45000 [==============================] - 23s - loss: 1.1645 - acc: 0.5862 - val_loss: 0.9592 - val_acc: 0.6662\n",
      "Epoch 3/50\n",
      "45000/45000 [==============================] - 23s - loss: 1.0145 - acc: 0.6413 - val_loss: 0.8937 - val_acc: 0.6874\n",
      "Epoch 4/50\n",
      "45000/45000 [==============================] - 23s - loss: 0.9149 - acc: 0.6758 - val_loss: 0.9001 - val_acc: 0.6914\n",
      "Epoch 5/50\n",
      "45000/45000 [==============================] - 22s - loss: 0.8380 - acc: 0.7058 - val_loss: 0.7528 - val_acc: 0.7374\n",
      "Epoch 6/50\n",
      "45000/45000 [==============================] - 22s - loss: 0.7842 - acc: 0.7252 - val_loss: 0.7723 - val_acc: 0.7262\n",
      "Epoch 7/50\n",
      "45000/45000 [==============================] - 22s - loss: 0.7322 - acc: 0.7425 - val_loss: 0.7089 - val_acc: 0.7520\n",
      "Epoch 8/50\n",
      "45000/45000 [==============================] - 22s - loss: 0.6866 - acc: 0.7565 - val_loss: 0.7263 - val_acc: 0.7528\n",
      "Epoch 9/50\n",
      "45000/45000 [==============================] - 23s - loss: 0.6564 - acc: 0.7698 - val_loss: 0.6924 - val_acc: 0.7618\n",
      "Epoch 10/50\n",
      "45000/45000 [==============================] - 23s - loss: 0.6192 - acc: 0.7814 - val_loss: 0.6799 - val_acc: 0.7684\n",
      "Epoch 11/50\n",
      "45000/45000 [==============================] - 23s - loss: 0.5898 - acc: 0.7903 - val_loss: 0.6832 - val_acc: 0.7678\n",
      "Epoch 12/50\n",
      "45000/45000 [==============================] - 23s - loss: 0.5717 - acc: 0.7973 - val_loss: 0.6844 - val_acc: 0.7728\n",
      "Epoch 13/50\n",
      "45000/45000 [==============================] - 22s - loss: 0.5474 - acc: 0.8075 - val_loss: 0.7179 - val_acc: 0.7692\n",
      "Epoch 14/50\n",
      "45000/45000 [==============================] - 22s - loss: 0.5216 - acc: 0.8163 - val_loss: 0.6940 - val_acc: 0.7760\n",
      "Epoch 15/50\n",
      "45000/45000 [==============================] - 22s - loss: 0.5083 - acc: 0.8209 - val_loss: 0.6983 - val_acc: 0.7676\n",
      "Epoch 16/50\n",
      "45000/45000 [==============================] - 22s - loss: 0.4979 - acc: 0.8263 - val_loss: 0.6713 - val_acc: 0.7852\n",
      "Epoch 17/50\n",
      "45000/45000 [==============================] - 23s - loss: 0.4791 - acc: 0.8306 - val_loss: 0.6767 - val_acc: 0.7740\n",
      "Epoch 18/50\n",
      "45000/45000 [==============================] - 23s - loss: 0.4631 - acc: 0.8361 - val_loss: 0.7151 - val_acc: 0.7798\n",
      "Epoch 19/50\n",
      "45000/45000 [==============================] - 23s - loss: 0.4507 - acc: 0.8403 - val_loss: 0.6846 - val_acc: 0.7814\n",
      "Epoch 20/50\n",
      "45000/45000 [==============================] - 23s - loss: 0.4370 - acc: 0.8442 - val_loss: 0.6891 - val_acc: 0.7844\n",
      "Epoch 21/50\n",
      "45000/45000 [==============================] - 22s - loss: 0.4347 - acc: 0.8464 - val_loss: 0.6839 - val_acc: 0.7850\n",
      "Epoch 22/50\n",
      "45000/45000 [==============================] - 22s - loss: 0.4161 - acc: 0.8528 - val_loss: 0.6951 - val_acc: 0.7796\n",
      "Epoch 23/50\n",
      "45000/45000 [==============================] - 22s - loss: 0.4132 - acc: 0.8547 - val_loss: 0.6967 - val_acc: 0.7836\n",
      "Epoch 24/50\n",
      "45000/45000 [==============================] - 22s - loss: 0.4078 - acc: 0.8558 - val_loss: 0.7163 - val_acc: 0.7844\n",
      "Epoch 25/50\n",
      "45000/45000 [==============================] - 23s - loss: 0.4028 - acc: 0.8601 - val_loss: 0.6803 - val_acc: 0.7894\n",
      "Epoch 26/50\n",
      "45000/45000 [==============================] - 23s - loss: 0.3881 - acc: 0.8639 - val_loss: 0.7073 - val_acc: 0.7858\n",
      "Epoch 27/50\n",
      "45000/45000 [==============================] - 23s - loss: 0.3804 - acc: 0.8647 - val_loss: 0.7017 - val_acc: 0.7946\n",
      "Epoch 28/50\n",
      "45000/45000 [==============================] - 23s - loss: 0.3774 - acc: 0.8673 - val_loss: 0.6952 - val_acc: 0.7862\n",
      "Epoch 29/50\n",
      "45000/45000 [==============================] - 22s - loss: 0.3657 - acc: 0.8718 - val_loss: 0.7376 - val_acc: 0.7862\n",
      "Epoch 30/50\n",
      "45000/45000 [==============================] - 22s - loss: 0.3676 - acc: 0.8713 - val_loss: 0.7052 - val_acc: 0.7890\n",
      "Epoch 31/50\n",
      "45000/45000 [==============================] - 22s - loss: 0.3632 - acc: 0.8737 - val_loss: 0.7020 - val_acc: 0.7812\n",
      "Epoch 32/50\n",
      "45000/45000 [==============================] - 22s - loss: 0.3566 - acc: 0.8770 - val_loss: 0.7028 - val_acc: 0.7994\n",
      "Epoch 33/50\n",
      "45000/45000 [==============================] - 23s - loss: 0.3499 - acc: 0.8766 - val_loss: 0.7200 - val_acc: 0.7856\n",
      "Epoch 34/50\n",
      "45000/45000 [==============================] - 23s - loss: 0.3470 - acc: 0.8793 - val_loss: 0.7131 - val_acc: 0.7930\n",
      "Epoch 35/50\n",
      "45000/45000 [==============================] - 23s - loss: 0.3424 - acc: 0.8817 - val_loss: 0.7405 - val_acc: 0.7878\n",
      "Epoch 36/50\n",
      "45000/45000 [==============================] - 23s - loss: 0.3423 - acc: 0.8810 - val_loss: 0.7185 - val_acc: 0.7878\n",
      "Epoch 37/50\n",
      "45000/45000 [==============================] - 22s - loss: 0.3360 - acc: 0.8843 - val_loss: 0.7349 - val_acc: 0.7868\n",
      "Epoch 38/50\n",
      "45000/45000 [==============================] - 22s - loss: 0.3387 - acc: 0.8836 - val_loss: 0.7364 - val_acc: 0.7890\n",
      "Epoch 39/50\n",
      "45000/45000 [==============================] - 22s - loss: 0.3272 - acc: 0.8864 - val_loss: 0.7625 - val_acc: 0.7830\n",
      "Epoch 40/50\n",
      "45000/45000 [==============================] - 22s - loss: 0.3253 - acc: 0.8862 - val_loss: 0.7115 - val_acc: 0.7938\n",
      "Epoch 41/50\n",
      "45000/45000 [==============================] - 23s - loss: 0.3200 - acc: 0.8899 - val_loss: 0.7317 - val_acc: 0.7902\n",
      "Epoch 42/50\n",
      "45000/45000 [==============================] - 23s - loss: 0.3177 - acc: 0.8898 - val_loss: 0.7135 - val_acc: 0.7936\n",
      "Epoch 43/50\n",
      "45000/45000 [==============================] - 23s - loss: 0.3148 - acc: 0.8926 - val_loss: 0.7694 - val_acc: 0.7886\n",
      "Epoch 44/50\n",
      "45000/45000 [==============================] - 23s - loss: 0.3134 - acc: 0.8924 - val_loss: 0.7847 - val_acc: 0.7906\n",
      "Epoch 45/50\n",
      "45000/45000 [==============================] - 22s - loss: 0.3158 - acc: 0.8908 - val_loss: 0.7470 - val_acc: 0.7918\n",
      "Epoch 46/50\n",
      "45000/45000 [==============================] - 22s - loss: 0.3050 - acc: 0.8949 - val_loss: 0.7549 - val_acc: 0.7878\n",
      "Epoch 47/50\n",
      "45000/45000 [==============================] - 22s - loss: 0.3134 - acc: 0.8926 - val_loss: 0.7800 - val_acc: 0.7870\n",
      "Epoch 48/50\n",
      "45000/45000 [==============================] - 22s - loss: 0.3152 - acc: 0.8935 - val_loss: 0.7960 - val_acc: 0.7830\n",
      "Epoch 49/50\n",
      "45000/45000 [==============================] - 23s - loss: 0.3032 - acc: 0.8968 - val_loss: 0.7064 - val_acc: 0.7914\n",
      "Epoch 50/50\n",
      "45000/45000 [==============================] - 23s - loss: 0.3078 - acc: 0.8952 - val_loss: 0.7208 - val_acc: 0.7902\n",
      " 9888/10000 [============================>.] - ETA: 0s"
     ]
    },
    {
     "data": {
      "text/plain": [
       "[0.77678922514915472, 0.77749999999999997]"
      ]
     },
     "execution_count": 15,
     "metadata": {},
     "output_type": "execute_result"
    }
   ],
   "source": [
    "inp = Input(shape=(height, width, depth)) # depth goes last in TensorFlow back-end (first in Theano)\n",
    "# Conv [32] -> Conv [32] -> Pool (with dropout on the pooling layer)\n",
    "conv_1 = Convolution2D(conv_depth_1, (kernel_size, kernel_size), padding='same', activation='relu')(inp)\n",
    "conv_2 = Convolution2D(conv_depth_1, (kernel_size, kernel_size), padding='same', activation='relu')(conv_1)\n",
    "pool_1 = MaxPooling2D(pool_size=(pool_size, pool_size))(conv_2)\n",
    "drop_1 = Dropout(drop_prob_1)(pool_1)\n",
    "# Conv [64] -> Conv [64] -> Pool (with dropout on the pooling layer)\n",
    "conv_3 = Convolution2D(conv_depth_2, (kernel_size, kernel_size), padding='same', activation='relu')(drop_1)\n",
    "conv_4 = Convolution2D(conv_depth_2, (kernel_size, kernel_size), padding='same', activation='relu')(conv_3)\n",
    "pool_2 = MaxPooling2D(pool_size=(pool_size, pool_size))(conv_4)\n",
    "drop_2 = Dropout(drop_prob_1)(pool_2)\n",
    "# Now flatten to 1D, apply FC -> ReLU (with dropout) -> softmax\n",
    "flat = Flatten()(drop_2)\n",
    "hidden = Dense(hidden_size, activation='relu')(flat)\n",
    "drop_3 = Dropout(drop_prob_2)(hidden)\n",
    "out = Dense(num_classes, activation='softmax')(drop_3)\n",
    "\n",
    "model = Model(inputs=inp, outputs=out) # To define a model, just specify its input and output layers\n",
    "\n",
    "model.compile(loss='categorical_crossentropy', # using the cross-entropy loss function\n",
    "              optimizer='adam', # using the Adam optimiser\n",
    "              metrics=['accuracy']) # reporting the accuracy\n",
    "\n",
    "model.fit(X_train, Y_train,                # Train the model using the training set...\n",
    "          batch_size=batch_size, epochs=num_epochs,\n",
    "          verbose=1, validation_split=0.1, \n",
    "          callbacks=[cb]) # ...holding out 10% of the data for validation\n",
    "model.evaluate(X_test, Y_test, verbose=1)  # Evaluate the trained model on the test set!"
   ]
  },
  {
   "cell_type": "code",
   "execution_count": 19,
   "metadata": {},
   "outputs": [
    {
     "name": "stdout",
     "output_type": "stream",
     "text": [
      " 9888/10000 [============================>.] - ETA: 0s"
     ]
    },
    {
     "data": {
      "text/plain": [
       "[0.90125298643112184, 0.78500000000000003]"
      ]
     },
     "execution_count": 19,
     "metadata": {},
     "output_type": "execute_result"
    }
   ],
   "source": [
    "model.evaluate(X_test, Y_test, verbose=1)  # Evaluate the trained model on the test set!"
   ]
  },
  {
   "cell_type": "code",
   "execution_count": null,
   "metadata": {
    "collapsed": true
   },
   "outputs": [],
   "source": []
  }
 ],
 "metadata": {
  "kernelspec": {
   "display_name": "Python 3",
   "language": "python",
   "name": "python3"
  },
  "language_info": {
   "codemirror_mode": {
    "name": "ipython",
    "version": 3
   },
   "file_extension": ".py",
   "mimetype": "text/x-python",
   "name": "python",
   "nbconvert_exporter": "python",
   "pygments_lexer": "ipython3",
   "version": "3.4.3"
  }
 },
 "nbformat": 4,
 "nbformat_minor": 2
}
